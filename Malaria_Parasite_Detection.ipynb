{
  "nbformat": 4,
  "nbformat_minor": 0,
  "metadata": {
    "colab": {
      "name": "Malaria_Parasite_Detection.ipynb",
      "provenance": [],
      "collapsed_sections": [],
      "mount_file_id": "1N8aJtCKniHF4JG8i3REX9zsS8XrwrsGW",
      "authorship_tag": "ABX9TyNPtEPS16Zt+q8JjeYXKstx",
      "include_colab_link": true
    },
    "kernelspec": {
      "name": "python3",
      "display_name": "Python 3"
    },
    "language_info": {
      "name": "python"
    },
    "accelerator": "GPU"
  },
  "cells": [
    {
      "cell_type": "markdown",
      "metadata": {
        "id": "view-in-github",
        "colab_type": "text"
      },
      "source": [
        "<a href=\"https://colab.research.google.com/github/Varun-Ach/Malaria_Detection_CNN/blob/main/Malaria_Parasite_Detection.ipynb\" target=\"_parent\"><img src=\"https://colab.research.google.com/assets/colab-badge.svg\" alt=\"Open In Colab\"/></a>"
      ]
    },
    {
      "cell_type": "code",
      "metadata": {
        "id": "zlpv03mdtwKZ",
        "colab": {
          "base_uri": "https://localhost:8080/"
        },
        "outputId": "73ea7b32-cb5b-41f3-981d-18669872968a"
      },
      "source": [
        "from google.colab import drive\n",
        "drive.mount('/content/drive')"
      ],
      "execution_count": 1,
      "outputs": [
        {
          "output_type": "stream",
          "name": "stdout",
          "text": [
            "Drive already mounted at /content/drive; to attempt to forcibly remount, call drive.mount(\"/content/drive\", force_remount=True).\n"
          ]
        }
      ]
    },
    {
      "cell_type": "code",
      "metadata": {
        "colab": {
          "base_uri": "https://localhost:8080/"
        },
        "id": "zb7_K2Few6vW",
        "outputId": "e6065a77-44f4-405d-eb8f-6b9f4e4cc725"
      },
      "source": [
        "!nvidia-smi"
      ],
      "execution_count": 2,
      "outputs": [
        {
          "output_type": "stream",
          "name": "stdout",
          "text": [
            "Thu Oct 14 14:14:57 2021       \n",
            "+-----------------------------------------------------------------------------+\n",
            "| NVIDIA-SMI 470.74       Driver Version: 460.32.03    CUDA Version: 11.2     |\n",
            "|-------------------------------+----------------------+----------------------+\n",
            "| GPU  Name        Persistence-M| Bus-Id        Disp.A | Volatile Uncorr. ECC |\n",
            "| Fan  Temp  Perf  Pwr:Usage/Cap|         Memory-Usage | GPU-Util  Compute M. |\n",
            "|                               |                      |               MIG M. |\n",
            "|===============================+======================+======================|\n",
            "|   0  Tesla K80           Off  | 00000000:00:04.0 Off |                    0 |\n",
            "| N/A   72C    P8    35W / 149W |      0MiB / 11441MiB |      0%      Default |\n",
            "|                               |                      |                  N/A |\n",
            "+-------------------------------+----------------------+----------------------+\n",
            "                                                                               \n",
            "+-----------------------------------------------------------------------------+\n",
            "| Processes:                                                                  |\n",
            "|  GPU   GI   CI        PID   Type   Process name                  GPU Memory |\n",
            "|        ID   ID                                                   Usage      |\n",
            "|=============================================================================|\n",
            "|  No running processes found                                                 |\n",
            "+-----------------------------------------------------------------------------+\n"
          ]
        }
      ]
    },
    {
      "cell_type": "code",
      "metadata": {
        "id": "A8w4omm2xU-g"
      },
      "source": [
        "# Dataset from \n",
        "# https://www.kaggle.com/iarunava/cell-images-for-detecting-malaria"
      ],
      "execution_count": 3,
      "outputs": []
    },
    {
      "cell_type": "code",
      "metadata": {
        "id": "2jxu5IHGyVaF"
      },
      "source": [
        "# import the libraries\n",
        "\n",
        "from tensorflow.keras.layers import Input, Lambda, Dense, Flatten,Conv2D\n",
        "from tensorflow.keras.models import Model\n",
        "from tensorflow.keras.applications.vgg19 import VGG19\n",
        "from tensorflow.keras.applications.resnet50 import preprocess_input\n",
        "from tensorflow.keras.preprocessing import image\n",
        "from tensorflow.keras.preprocessing.image import ImageDataGenerator,load_img\n",
        "from tensorflow.keras.models import Sequential\n",
        "import numpy as np\n",
        "from glob import glob\n",
        "import matplotlib.pyplot as plt"
      ],
      "execution_count": 4,
      "outputs": []
    },
    {
      "cell_type": "code",
      "metadata": {
        "id": "xM-uHSeVyZ0L"
      },
      "source": [
        "# re-size all the images \n",
        "\n",
        "IMAGE_SIZE = [224, 224]\n",
        "\n",
        "train_path = '/content/drive/MyDrive/Malaria Detection/DataSet/Train'\n",
        "valid_path = '/content/drive/MyDrive/Malaria Detection/DataSet/Test'"
      ],
      "execution_count": 5,
      "outputs": []
    },
    {
      "cell_type": "code",
      "metadata": {
        "id": "9N4J7NdhzAu9",
        "colab": {
          "base_uri": "https://localhost:8080/"
        },
        "outputId": "f883e899-792c-4087-9b29-1b9ef8193b4f"
      },
      "source": [
        "# Import the Vgg 19 library and add preprocessing layer to the front of VGG\n",
        "\n",
        "mobilnet = VGG19(input_shape=IMAGE_SIZE + [3], weights='imagenet', include_top=False)"
      ],
      "execution_count": 6,
      "outputs": [
        {
          "output_type": "stream",
          "name": "stdout",
          "text": [
            "Downloading data from https://storage.googleapis.com/tensorflow/keras-applications/vgg19/vgg19_weights_tf_dim_ordering_tf_kernels_notop.h5\n",
            "80142336/80134624 [==============================] - 1s 0us/step\n",
            "80150528/80134624 [==============================] - 1s 0us/step\n"
          ]
        }
      ]
    },
    {
      "cell_type": "code",
      "metadata": {
        "id": "Y56IELmOzHEB"
      },
      "source": [
        "# don't train existing weights\n",
        "\n",
        "for layer in mobilnet.layers:\n",
        "    layer.trainable = False"
      ],
      "execution_count": 7,
      "outputs": []
    },
    {
      "cell_type": "code",
      "metadata": {
        "id": "aSZI9mKTzSUE"
      },
      "source": [
        "# useful for getting number of output classes\n",
        "    \n",
        "folders = glob('/content/drive/MyDrive/Malaria Detection/DataSet/Train/*')"
      ],
      "execution_count": 9,
      "outputs": []
    },
    {
      "cell_type": "code",
      "metadata": {
        "colab": {
          "base_uri": "https://localhost:8080/"
        },
        "id": "ni8XjSP8zWj7",
        "outputId": "14fdb01b-22cd-45ce-bb69-81a5b68be6c6"
      },
      "source": [
        "folders"
      ],
      "execution_count": 10,
      "outputs": [
        {
          "output_type": "execute_result",
          "data": {
            "text/plain": [
              "['/content/drive/MyDrive/Malaria Detection/DataSet/Train/Uninfected',\n",
              " '/content/drive/MyDrive/Malaria Detection/DataSet/Train/Parasite']"
            ]
          },
          "metadata": {},
          "execution_count": 10
        }
      ]
    },
    {
      "cell_type": "code",
      "metadata": {
        "id": "ikl-KlLBzak1"
      },
      "source": [
        "# our layers - you can add more if you want\n",
        "\n",
        "x = Flatten()(mobilnet.output)"
      ],
      "execution_count": 11,
      "outputs": []
    },
    {
      "cell_type": "code",
      "metadata": {
        "id": "jCTEKsCezlic"
      },
      "source": [
        "prediction = Dense(len(folders), activation='softmax')(x)\n",
        "\n",
        "# create a model object\n",
        "\n",
        "model = Model(inputs=mobilnet.input, outputs=prediction)"
      ],
      "execution_count": 12,
      "outputs": []
    },
    {
      "cell_type": "code",
      "metadata": {
        "colab": {
          "base_uri": "https://localhost:8080/"
        },
        "id": "4OEEzb5bzpnA",
        "outputId": "fd3a62f5-95b2-470f-f07d-6955e3aec881"
      },
      "source": [
        "model.summary()"
      ],
      "execution_count": 13,
      "outputs": [
        {
          "output_type": "stream",
          "name": "stdout",
          "text": [
            "Model: \"model\"\n",
            "_________________________________________________________________\n",
            "Layer (type)                 Output Shape              Param #   \n",
            "=================================================================\n",
            "input_1 (InputLayer)         [(None, 224, 224, 3)]     0         \n",
            "_________________________________________________________________\n",
            "block1_conv1 (Conv2D)        (None, 224, 224, 64)      1792      \n",
            "_________________________________________________________________\n",
            "block1_conv2 (Conv2D)        (None, 224, 224, 64)      36928     \n",
            "_________________________________________________________________\n",
            "block1_pool (MaxPooling2D)   (None, 112, 112, 64)      0         \n",
            "_________________________________________________________________\n",
            "block2_conv1 (Conv2D)        (None, 112, 112, 128)     73856     \n",
            "_________________________________________________________________\n",
            "block2_conv2 (Conv2D)        (None, 112, 112, 128)     147584    \n",
            "_________________________________________________________________\n",
            "block2_pool (MaxPooling2D)   (None, 56, 56, 128)       0         \n",
            "_________________________________________________________________\n",
            "block3_conv1 (Conv2D)        (None, 56, 56, 256)       295168    \n",
            "_________________________________________________________________\n",
            "block3_conv2 (Conv2D)        (None, 56, 56, 256)       590080    \n",
            "_________________________________________________________________\n",
            "block3_conv3 (Conv2D)        (None, 56, 56, 256)       590080    \n",
            "_________________________________________________________________\n",
            "block3_conv4 (Conv2D)        (None, 56, 56, 256)       590080    \n",
            "_________________________________________________________________\n",
            "block3_pool (MaxPooling2D)   (None, 28, 28, 256)       0         \n",
            "_________________________________________________________________\n",
            "block4_conv1 (Conv2D)        (None, 28, 28, 512)       1180160   \n",
            "_________________________________________________________________\n",
            "block4_conv2 (Conv2D)        (None, 28, 28, 512)       2359808   \n",
            "_________________________________________________________________\n",
            "block4_conv3 (Conv2D)        (None, 28, 28, 512)       2359808   \n",
            "_________________________________________________________________\n",
            "block4_conv4 (Conv2D)        (None, 28, 28, 512)       2359808   \n",
            "_________________________________________________________________\n",
            "block4_pool (MaxPooling2D)   (None, 14, 14, 512)       0         \n",
            "_________________________________________________________________\n",
            "block5_conv1 (Conv2D)        (None, 14, 14, 512)       2359808   \n",
            "_________________________________________________________________\n",
            "block5_conv2 (Conv2D)        (None, 14, 14, 512)       2359808   \n",
            "_________________________________________________________________\n",
            "block5_conv3 (Conv2D)        (None, 14, 14, 512)       2359808   \n",
            "_________________________________________________________________\n",
            "block5_conv4 (Conv2D)        (None, 14, 14, 512)       2359808   \n",
            "_________________________________________________________________\n",
            "block5_pool (MaxPooling2D)   (None, 7, 7, 512)         0         \n",
            "_________________________________________________________________\n",
            "flatten (Flatten)            (None, 25088)             0         \n",
            "_________________________________________________________________\n",
            "dense (Dense)                (None, 2)                 50178     \n",
            "=================================================================\n",
            "Total params: 20,074,562\n",
            "Trainable params: 50,178\n",
            "Non-trainable params: 20,024,384\n",
            "_________________________________________________________________\n"
          ]
        }
      ]
    },
    {
      "cell_type": "code",
      "metadata": {
        "id": "27p0PBNNzw74"
      },
      "source": [
        "model.compile(\n",
        "  loss='categorical_crossentropy',\n",
        "  optimizer='adam',\n",
        "  metrics=['accuracy']\n",
        ")\n",
        "# categorical_crossentropy because 2 categories can use binary_crossentropy for single output cases"
      ],
      "execution_count": 14,
      "outputs": []
    },
    {
      "cell_type": "code",
      "metadata": {
        "id": "Pilmx6pMz-ex"
      },
      "source": [
        "# Use the Image Data Generator to import the images from the dataset\n",
        "from tensorflow.keras.preprocessing.image import ImageDataGenerator\n",
        "\n",
        "train_datagen = ImageDataGenerator(rescale = 1./255,\n",
        "                                   shear_range = 0.2,\n",
        "                                   zoom_range = 0.2,\n",
        "                                   horizontal_flip = True)\n",
        "#Data augmentation for Training Data\n",
        "\n",
        "test_datagen = ImageDataGenerator(rescale = 1./255)"
      ],
      "execution_count": 15,
      "outputs": []
    },
    {
      "cell_type": "code",
      "metadata": {
        "colab": {
          "base_uri": "https://localhost:8080/"
        },
        "id": "8xCVXIlT0I73",
        "outputId": "737bde34-1c62-4d41-9404-fdbb325ba94e"
      },
      "source": [
        "training_set = train_datagen.flow_from_directory('/content/drive/MyDrive/Malaria Detection/DataSet/Train',\n",
        "                                                 target_size = (224, 224),\n",
        "                                                 batch_size = 32,\n",
        "                                                 class_mode = 'categorical')"
      ],
      "execution_count": 16,
      "outputs": [
        {
          "output_type": "stream",
          "name": "stdout",
          "text": [
            "Found 421 images belonging to 2 classes.\n"
          ]
        }
      ]
    },
    {
      "cell_type": "code",
      "metadata": {
        "colab": {
          "base_uri": "https://localhost:8080/"
        },
        "id": "ZcVP6At30dNg",
        "outputId": "d1486629-ee56-4e05-adda-48cbccf77af4"
      },
      "source": [
        "training_set"
      ],
      "execution_count": 18,
      "outputs": [
        {
          "output_type": "execute_result",
          "data": {
            "text/plain": [
              "<keras.preprocessing.image.DirectoryIterator at 0x7f6260497450>"
            ]
          },
          "metadata": {},
          "execution_count": 18
        }
      ]
    },
    {
      "cell_type": "code",
      "metadata": {
        "colab": {
          "base_uri": "https://localhost:8080/"
        },
        "id": "ZvMtdHuG0wf0",
        "outputId": "c1b36254-74fe-41f7-9351-bbc0bf09ebfe"
      },
      "source": [
        "test_set = test_datagen.flow_from_directory('/content/drive/MyDrive/Malaria Detection/DataSet/Test',\n",
        "                                            target_size = (224, 224),\n",
        "                                            batch_size = 32,\n",
        "                                            class_mode = 'categorical')"
      ],
      "execution_count": 19,
      "outputs": [
        {
          "output_type": "stream",
          "name": "stdout",
          "text": [
            "Found 134 images belonging to 2 classes.\n"
          ]
        }
      ]
    },
    {
      "cell_type": "code",
      "metadata": {
        "colab": {
          "base_uri": "https://localhost:8080/"
        },
        "id": "28RmaJ_e07Xh",
        "outputId": "6362705f-e1ec-40e2-a848-90f9db41c049"
      },
      "source": [
        "# fit the model\n",
        "# Run the cell. It will take some time to execute\n",
        "r = model.fit_generator(\n",
        "  training_set,\n",
        "  validation_data=test_set,\n",
        "  epochs=50,\n",
        "  steps_per_epoch=len(training_set),\n",
        "  validation_steps=len(test_set)\n",
        ")"
      ],
      "execution_count": 20,
      "outputs": [
        {
          "output_type": "stream",
          "name": "stderr",
          "text": [
            "/usr/local/lib/python3.7/dist-packages/keras/engine/training.py:1972: UserWarning: `Model.fit_generator` is deprecated and will be removed in a future version. Please use `Model.fit`, which supports generators.\n",
            "  warnings.warn('`Model.fit_generator` is deprecated and '\n"
          ]
        },
        {
          "output_type": "stream",
          "name": "stdout",
          "text": [
            "Epoch 1/50\n",
            "14/14 [==============================] - 277s 17s/step - loss: 1.7552 - accuracy: 0.5463 - val_loss: 0.6683 - val_accuracy: 0.6791\n",
            "Epoch 2/50\n",
            "14/14 [==============================] - 8s 587ms/step - loss: 0.5314 - accuracy: 0.7387 - val_loss: 0.6713 - val_accuracy: 0.6493\n",
            "Epoch 3/50\n",
            "14/14 [==============================] - 8s 587ms/step - loss: 0.4014 - accuracy: 0.8290 - val_loss: 0.4527 - val_accuracy: 0.7313\n",
            "Epoch 4/50\n",
            "14/14 [==============================] - 8s 592ms/step - loss: 0.3548 - accuracy: 0.8456 - val_loss: 0.3997 - val_accuracy: 0.7985\n",
            "Epoch 5/50\n",
            "14/14 [==============================] - 8s 593ms/step - loss: 0.3033 - accuracy: 0.8812 - val_loss: 0.3810 - val_accuracy: 0.8060\n",
            "Epoch 6/50\n",
            "14/14 [==============================] - 8s 582ms/step - loss: 0.2819 - accuracy: 0.9002 - val_loss: 0.3858 - val_accuracy: 0.7761\n",
            "Epoch 7/50\n",
            "14/14 [==============================] - 8s 591ms/step - loss: 0.4250 - accuracy: 0.8052 - val_loss: 0.3466 - val_accuracy: 0.8134\n",
            "Epoch 8/50\n",
            "14/14 [==============================] - 8s 592ms/step - loss: 0.4954 - accuracy: 0.7435 - val_loss: 0.9773 - val_accuracy: 0.6269\n",
            "Epoch 9/50\n",
            "14/14 [==============================] - 8s 589ms/step - loss: 0.3978 - accuracy: 0.8314 - val_loss: 0.3157 - val_accuracy: 0.8433\n",
            "Epoch 10/50\n",
            "14/14 [==============================] - 8s 584ms/step - loss: 0.2792 - accuracy: 0.8836 - val_loss: 0.6396 - val_accuracy: 0.6791\n",
            "Epoch 11/50\n",
            "14/14 [==============================] - 8s 591ms/step - loss: 0.2546 - accuracy: 0.9002 - val_loss: 0.2890 - val_accuracy: 0.8806\n",
            "Epoch 12/50\n",
            "14/14 [==============================] - 8s 597ms/step - loss: 0.2277 - accuracy: 0.9002 - val_loss: 0.4955 - val_accuracy: 0.7463\n",
            "Epoch 13/50\n",
            "14/14 [==============================] - 8s 586ms/step - loss: 0.1735 - accuracy: 0.9311 - val_loss: 0.3563 - val_accuracy: 0.8284\n",
            "Epoch 14/50\n",
            "14/14 [==============================] - 8s 583ms/step - loss: 0.1859 - accuracy: 0.9335 - val_loss: 0.3377 - val_accuracy: 0.8433\n",
            "Epoch 15/50\n",
            "14/14 [==============================] - 8s 592ms/step - loss: 0.1782 - accuracy: 0.9430 - val_loss: 0.2446 - val_accuracy: 0.9104\n",
            "Epoch 16/50\n",
            "14/14 [==============================] - 8s 590ms/step - loss: 0.1648 - accuracy: 0.9406 - val_loss: 0.2341 - val_accuracy: 0.9328\n",
            "Epoch 17/50\n",
            "14/14 [==============================] - 8s 583ms/step - loss: 0.1728 - accuracy: 0.9382 - val_loss: 0.3124 - val_accuracy: 0.8358\n",
            "Epoch 18/50\n",
            "14/14 [==============================] - 8s 585ms/step - loss: 0.1643 - accuracy: 0.9406 - val_loss: 0.2783 - val_accuracy: 0.8955\n",
            "Epoch 19/50\n",
            "14/14 [==============================] - 8s 586ms/step - loss: 0.1873 - accuracy: 0.9311 - val_loss: 0.2585 - val_accuracy: 0.8806\n",
            "Epoch 20/50\n",
            "14/14 [==============================] - 8s 587ms/step - loss: 0.1795 - accuracy: 0.9382 - val_loss: 0.2534 - val_accuracy: 0.9104\n",
            "Epoch 21/50\n",
            "14/14 [==============================] - 8s 581ms/step - loss: 0.1833 - accuracy: 0.9382 - val_loss: 0.3513 - val_accuracy: 0.7910\n",
            "Epoch 22/50\n",
            "14/14 [==============================] - 8s 583ms/step - loss: 0.1408 - accuracy: 0.9596 - val_loss: 0.2502 - val_accuracy: 0.9030\n",
            "Epoch 23/50\n",
            "14/14 [==============================] - 8s 590ms/step - loss: 0.1342 - accuracy: 0.9549 - val_loss: 0.3195 - val_accuracy: 0.8582\n",
            "Epoch 24/50\n",
            "14/14 [==============================] - 8s 591ms/step - loss: 0.1319 - accuracy: 0.9572 - val_loss: 0.2185 - val_accuracy: 0.9328\n",
            "Epoch 25/50\n",
            "14/14 [==============================] - 8s 587ms/step - loss: 0.1300 - accuracy: 0.9501 - val_loss: 0.2291 - val_accuracy: 0.9030\n",
            "Epoch 26/50\n",
            "14/14 [==============================] - 8s 612ms/step - loss: 0.1542 - accuracy: 0.9406 - val_loss: 0.2504 - val_accuracy: 0.8955\n",
            "Epoch 27/50\n",
            "14/14 [==============================] - 8s 589ms/step - loss: 0.1247 - accuracy: 0.9691 - val_loss: 0.2287 - val_accuracy: 0.9104\n",
            "Epoch 28/50\n",
            "14/14 [==============================] - 8s 620ms/step - loss: 0.1277 - accuracy: 0.9667 - val_loss: 0.2534 - val_accuracy: 0.9030\n",
            "Epoch 29/50\n",
            "14/14 [==============================] - 8s 583ms/step - loss: 0.1397 - accuracy: 0.9572 - val_loss: 0.3089 - val_accuracy: 0.8657\n",
            "Epoch 30/50\n",
            "14/14 [==============================] - 8s 587ms/step - loss: 0.1075 - accuracy: 0.9715 - val_loss: 0.2218 - val_accuracy: 0.9104\n",
            "Epoch 31/50\n",
            "14/14 [==============================] - 8s 593ms/step - loss: 0.1061 - accuracy: 0.9762 - val_loss: 0.3287 - val_accuracy: 0.8433\n",
            "Epoch 32/50\n",
            "14/14 [==============================] - 8s 593ms/step - loss: 0.1312 - accuracy: 0.9382 - val_loss: 0.2101 - val_accuracy: 0.9179\n",
            "Epoch 33/50\n",
            "14/14 [==============================] - 8s 615ms/step - loss: 0.1472 - accuracy: 0.9406 - val_loss: 0.2758 - val_accuracy: 0.8881\n",
            "Epoch 34/50\n",
            "14/14 [==============================] - 8s 594ms/step - loss: 0.1016 - accuracy: 0.9644 - val_loss: 0.1833 - val_accuracy: 0.9179\n",
            "Epoch 35/50\n",
            "14/14 [==============================] - 8s 583ms/step - loss: 0.0922 - accuracy: 0.9739 - val_loss: 0.2055 - val_accuracy: 0.9179\n",
            "Epoch 36/50\n",
            "14/14 [==============================] - 8s 584ms/step - loss: 0.0973 - accuracy: 0.9715 - val_loss: 0.1679 - val_accuracy: 0.9403\n",
            "Epoch 37/50\n",
            "14/14 [==============================] - 8s 583ms/step - loss: 0.1408 - accuracy: 0.9525 - val_loss: 0.5550 - val_accuracy: 0.7463\n",
            "Epoch 38/50\n",
            "14/14 [==============================] - 8s 585ms/step - loss: 0.1083 - accuracy: 0.9667 - val_loss: 0.2089 - val_accuracy: 0.9254\n",
            "Epoch 39/50\n",
            "14/14 [==============================] - 8s 612ms/step - loss: 0.0947 - accuracy: 0.9739 - val_loss: 0.2043 - val_accuracy: 0.9030\n",
            "Epoch 40/50\n",
            "14/14 [==============================] - 8s 612ms/step - loss: 0.0905 - accuracy: 0.9762 - val_loss: 0.2785 - val_accuracy: 0.8582\n",
            "Epoch 41/50\n",
            "14/14 [==============================] - 8s 617ms/step - loss: 0.1011 - accuracy: 0.9667 - val_loss: 0.1908 - val_accuracy: 0.9254\n",
            "Epoch 42/50\n",
            "14/14 [==============================] - 8s 589ms/step - loss: 0.0863 - accuracy: 0.9762 - val_loss: 0.2832 - val_accuracy: 0.8731\n",
            "Epoch 43/50\n",
            "14/14 [==============================] - 8s 583ms/step - loss: 0.1090 - accuracy: 0.9644 - val_loss: 0.2156 - val_accuracy: 0.9104\n",
            "Epoch 44/50\n",
            "14/14 [==============================] - 8s 583ms/step - loss: 0.1432 - accuracy: 0.9430 - val_loss: 0.9099 - val_accuracy: 0.6642\n",
            "Epoch 45/50\n",
            "14/14 [==============================] - 8s 582ms/step - loss: 0.1616 - accuracy: 0.9359 - val_loss: 0.2011 - val_accuracy: 0.9403\n",
            "Epoch 46/50\n",
            "14/14 [==============================] - 8s 591ms/step - loss: 0.1138 - accuracy: 0.9596 - val_loss: 0.5351 - val_accuracy: 0.7537\n",
            "Epoch 47/50\n",
            "14/14 [==============================] - 8s 590ms/step - loss: 0.1512 - accuracy: 0.9477 - val_loss: 0.1800 - val_accuracy: 0.9478\n",
            "Epoch 48/50\n",
            "14/14 [==============================] - 8s 587ms/step - loss: 0.0895 - accuracy: 0.9715 - val_loss: 0.3063 - val_accuracy: 0.8731\n",
            "Epoch 49/50\n",
            "14/14 [==============================] - 8s 589ms/step - loss: 0.0915 - accuracy: 0.9739 - val_loss: 0.2760 - val_accuracy: 0.8806\n",
            "Epoch 50/50\n",
            "14/14 [==============================] - 8s 594ms/step - loss: 0.0787 - accuracy: 0.9715 - val_loss: 0.2293 - val_accuracy: 0.9179\n"
          ]
        }
      ]
    },
    {
      "cell_type": "code",
      "metadata": {
        "id": "mEFlu82z1Fs8",
        "colab": {
          "base_uri": "https://localhost:8080/",
          "height": 530
        },
        "outputId": "805c9244-6176-4a3e-b9f9-9f04baeb9489"
      },
      "source": [
        "# plot the loss\n",
        "plt.plot(r.history['loss'], label='train loss')\n",
        "plt.plot(r.history['val_loss'], label='val loss')\n",
        "plt.legend()\n",
        "plt.show()\n",
        "plt.savefig('LossVal_loss')\n",
        "\n",
        "# plot the accuracy\n",
        "plt.plot(r.history['accuracy'], label='train acc')\n",
        "plt.plot(r.history['val_accuracy'], label='val acc')\n",
        "plt.legend()\n",
        "plt.show()\n",
        "plt.savefig('AccVal_acc')"
      ],
      "execution_count": 21,
      "outputs": [
        {
          "output_type": "display_data",
          "data": {
            "image/png": "[encoded data removed]",
            "text/plain": [
              "<Figure size 432x288 with 1 Axes>"
            ]
          },
          "metadata": {
            "needs_background": "light"
          }
        },
        {
          "output_type": "display_data",
          "data": {
            "image/png": "[encoded data removed]",
            "text/plain": [
              "<Figure size 432x288 with 1 Axes>"
            ]
          },
          "metadata": {
            "needs_background": "light"
          }
        },
        {
          "output_type": "display_data",
          "data": {
            "text/plain": [
              "<Figure size 432x288 with 0 Axes>"
            ]
          },
          "metadata": {}
        }
      ]
    },
    {
      "cell_type": "code",
      "metadata": {
        "id": "6Oem_fqINm_A"
      },
      "source": [
        "# save it as a h5 file\n",
        "\n",
        "\n",
        "from tensorflow.keras.models import load_model\n",
        "\n",
        "model.save('model_vgg19.h5')"
      ],
      "execution_count": 22,
      "outputs": []
    },
    {
      "cell_type": "code",
      "metadata": {
        "id": "-hyDWdYrNwss"
      },
      "source": [
        "y_pred = model.predict(test_set)"
      ],
      "execution_count": 23,
      "outputs": []
    },
    {
      "cell_type": "code",
      "metadata": {
        "colab": {
          "base_uri": "https://localhost:8080/"
        },
        "id": "PQfPZd_ZN0Sn",
        "outputId": "77b7b90f-464c-4abe-fcfc-59b496394dfd"
      },
      "source": [
        "y_pred"
      ],
      "execution_count": 24,
      "outputs": [
        {
          "output_type": "execute_result",
          "data": {
            "text/plain": [
              "array([[2.48189911e-01, 7.51810074e-01],\n",
              "       [6.87180400e-01, 3.12819600e-01],\n",
              "       [5.41211128e-01, 4.58788842e-01],\n",
              "       [9.72977161e-01, 2.70229019e-02],\n",
              "       [9.61608708e-01, 3.83913442e-02],\n",
              "       [8.52148771e-01, 1.47851259e-01],\n",
              "       [1.55036850e-02, 9.84496355e-01],\n",
              "       [7.61343390e-02, 9.23865676e-01],\n",
              "       [9.99979496e-01, 2.04490607e-05],\n",
              "       [2.22252771e-01, 7.77747214e-01],\n",
              "       [9.99965549e-01, 3.44896252e-05],\n",
              "       [6.72793210e-01, 3.27206820e-01],\n",
              "       [9.91187692e-01, 8.81231297e-03],\n",
              "       [3.12495581e-03, 9.96875048e-01],\n",
              "       [9.99446571e-01, 5.53412014e-04],\n",
              "       [7.52109801e-03, 9.92478848e-01],\n",
              "       [4.82815690e-02, 9.51718450e-01],\n",
              "       [1.69154704e-01, 8.30845296e-01],\n",
              "       [7.39339888e-01, 2.60660082e-01],\n",
              "       [2.03472618e-02, 9.79652762e-01],\n",
              "       [9.99732435e-01, 2.67543772e-04],\n",
              "       [9.77077365e-01, 2.29226481e-02],\n",
              "       [8.88460338e-01, 1.11539669e-01],\n",
              "       [4.71105948e-02, 9.52889323e-01],\n",
              "       [9.97721732e-01, 2.27826135e-03],\n",
              "       [7.97446370e-01, 2.02553570e-01],\n",
              "       [1.00000000e+00, 3.42075737e-08],\n",
              "       [9.99994993e-01, 4.99360294e-06],\n",
              "       [6.78749204e-01, 3.21250767e-01],\n",
              "       [9.99997854e-01, 2.10571329e-06],\n",
              "       [6.95137918e-01, 3.04862082e-01],\n",
              "       [9.91255641e-01, 8.74436274e-03],\n",
              "       [9.76970077e-01, 2.30299681e-02],\n",
              "       [2.23475769e-02, 9.77652431e-01],\n",
              "       [9.99826372e-01, 1.73665816e-04],\n",
              "       [8.39862227e-01, 1.60137773e-01],\n",
              "       [9.79754031e-01, 2.02460028e-02],\n",
              "       [1.81237489e-01, 8.18762541e-01],\n",
              "       [4.96297814e-02, 9.50370193e-01],\n",
              "       [1.96579099e-01, 8.03420961e-01],\n",
              "       [1.98384166e-01, 8.01615834e-01],\n",
              "       [2.72972528e-02, 9.72702742e-01],\n",
              "       [2.22610503e-01, 7.77389526e-01],\n",
              "       [9.94023383e-01, 5.97662386e-03],\n",
              "       [9.99962330e-01, 3.77036631e-05],\n",
              "       [2.47192532e-02, 9.75280702e-01],\n",
              "       [9.99968171e-01, 3.18540624e-05],\n",
              "       [3.01878721e-01, 6.98121250e-01],\n",
              "       [9.99015331e-01, 9.84664890e-04],\n",
              "       [6.78887129e-01, 3.21112812e-01],\n",
              "       [8.52669597e-01, 1.47330344e-01],\n",
              "       [1.15323260e-01, 8.84676695e-01],\n",
              "       [3.65455188e-02, 9.63454425e-01],\n",
              "       [2.87103385e-01, 7.12896645e-01],\n",
              "       [9.71329689e-01, 2.86702979e-02],\n",
              "       [2.01786943e-02, 9.79821324e-01],\n",
              "       [7.17388868e-01, 2.82611132e-01],\n",
              "       [8.52009561e-03, 9.91479874e-01],\n",
              "       [1.84678044e-02, 9.81532216e-01],\n",
              "       [8.65163922e-01, 1.34836033e-01],\n",
              "       [9.79050994e-01, 2.09489800e-02],\n",
              "       [7.23433197e-01, 2.76566803e-01],\n",
              "       [7.97081590e-01, 2.02918366e-01],\n",
              "       [9.37969983e-01, 6.20299950e-02],\n",
              "       [6.04191840e-01, 3.95808160e-01],\n",
              "       [9.99863625e-01, 1.36401344e-04],\n",
              "       [2.77383290e-02, 9.72261727e-01],\n",
              "       [9.99665856e-01, 3.34185897e-04],\n",
              "       [4.05379683e-02, 9.59461987e-01],\n",
              "       [6.24194205e-01, 3.75805825e-01],\n",
              "       [9.98566568e-01, 1.43350079e-03],\n",
              "       [9.99909997e-01, 9.00097875e-05],\n",
              "       [3.50394621e-02, 9.64960456e-01],\n",
              "       [9.99721348e-01, 2.78601714e-04],\n",
              "       [5.36842525e-01, 4.63157505e-01],\n",
              "       [9.99715507e-01, 2.84494890e-04],\n",
              "       [1.13229536e-01, 8.86770427e-01],\n",
              "       [9.99151230e-01, 8.48803553e-04],\n",
              "       [2.28796899e-02, 9.77120280e-01],\n",
              "       [1.02823779e-01, 8.97176266e-01],\n",
              "       [5.57859950e-02, 9.44214046e-01],\n",
              "       [9.99770582e-01, 2.29420068e-04],\n",
              "       [2.12592453e-01, 7.87407577e-01],\n",
              "       [9.99294162e-01, 7.05828541e-04],\n",
              "       [9.87357616e-01, 1.26423715e-02],\n",
              "       [8.97863448e-01, 1.02136590e-01],\n",
              "       [9.23575401e-01, 7.64245763e-02],\n",
              "       [6.45796210e-03, 9.93542075e-01],\n",
              "       [4.36661333e-01, 5.63338637e-01],\n",
              "       [9.98902082e-01, 1.09795423e-03],\n",
              "       [4.60113175e-02, 9.53988731e-01],\n",
              "       [2.61325985e-02, 9.73867357e-01],\n",
              "       [9.99943256e-01, 5.67462048e-05],\n",
              "       [7.40254149e-02, 9.25974548e-01],\n",
              "       [1.00000000e+00, 5.17375032e-09],\n",
              "       [2.49499753e-02, 9.75050032e-01],\n",
              "       [2.28582658e-02, 9.77141678e-01],\n",
              "       [9.72109258e-01, 2.78907344e-02],\n",
              "       [2.03372259e-02, 9.79662716e-01],\n",
              "       [1.84342101e-01, 8.15657914e-01],\n",
              "       [9.50178921e-01, 4.98210900e-02],\n",
              "       [9.99604762e-01, 3.95210664e-04],\n",
              "       [9.97841358e-01, 2.15867162e-03],\n",
              "       [9.86140847e-01, 1.38591249e-02],\n",
              "       [8.79108012e-02, 9.12089169e-01],\n",
              "       [9.99902487e-01, 9.74607028e-05],\n",
              "       [5.84013641e-01, 4.15986359e-01],\n",
              "       [1.43511947e-02, 9.85648870e-01],\n",
              "       [9.99999404e-01, 5.82976838e-07],\n",
              "       [6.73045278e-01, 3.26954722e-01],\n",
              "       [9.26932633e-01, 7.30673373e-02],\n",
              "       [5.21850623e-02, 9.47815001e-01],\n",
              "       [9.97480571e-01, 2.51945830e-03],\n",
              "       [3.30102257e-02, 9.66989756e-01],\n",
              "       [9.99996901e-01, 3.04297737e-06],\n",
              "       [6.76767290e-01, 3.23232710e-01],\n",
              "       [9.53155696e-01, 4.68442515e-02],\n",
              "       [9.99766290e-01, 2.33770232e-04],\n",
              "       [7.70988822e-01, 2.29011178e-01],\n",
              "       [6.88028783e-02, 9.31197107e-01],\n",
              "       [9.96073127e-01, 3.92686157e-03],\n",
              "       [9.96991396e-01, 3.00863548e-03],\n",
              "       [9.94756699e-01, 5.24332933e-03],\n",
              "       [4.69630994e-02, 9.53036904e-01],\n",
              "       [2.24529672e-02, 9.77547050e-01],\n",
              "       [2.12306101e-02, 9.78769422e-01],\n",
              "       [9.08161223e-01, 9.18387547e-02],\n",
              "       [8.35910618e-01, 1.64089397e-01],\n",
              "       [1.29647907e-02, 9.87035215e-01],\n",
              "       [9.99328971e-01, 6.71001151e-04],\n",
              "       [9.75589156e-01, 2.44108681e-02],\n",
              "       [9.99836802e-01, 1.63133023e-04],\n",
              "       [6.37088865e-02, 9.36291158e-01],\n",
              "       [9.99845624e-01, 1.54382084e-04]], dtype=float32)"
            ]
          },
          "metadata": {},
          "execution_count": 24
        }
      ]
    },
    {
      "cell_type": "code",
      "metadata": {
        "id": "-g707cFgN3_C"
      },
      "source": [
        "import numpy as np\n",
        "y_pred = np.argmax(y_pred, axis=1)"
      ],
      "execution_count": 25,
      "outputs": []
    },
    {
      "cell_type": "code",
      "metadata": {
        "colab": {
          "base_uri": "https://localhost:8080/"
        },
        "id": "2ZKBZjaWN_Ij",
        "outputId": "bb11ad1a-2d16-46a8-9edb-7f50f6425d51"
      },
      "source": [
        "y_pred"
      ],
      "execution_count": 26,
      "outputs": [
        {
          "output_type": "execute_result",
          "data": {
            "text/plain": [
              "array([1, 0, 0, 0, 0, 0, 1, 1, 0, 1, 0, 0, 0, 1, 0, 1, 1, 1, 0, 1, 0, 0,\n",
              "       0, 1, 0, 0, 0, 0, 0, 0, 0, 0, 0, 1, 0, 0, 0, 1, 1, 1, 1, 1, 1, 0,\n",
              "       0, 1, 0, 1, 0, 0, 0, 1, 1, 1, 0, 1, 0, 1, 1, 0, 0, 0, 0, 0, 0, 0,\n",
              "       1, 0, 1, 0, 0, 0, 1, 0, 0, 0, 1, 0, 1, 1, 1, 0, 1, 0, 0, 0, 0, 1,\n",
              "       1, 0, 1, 1, 0, 1, 0, 1, 1, 0, 1, 1, 0, 0, 0, 0, 1, 0, 0, 1, 0, 0,\n",
              "       0, 1, 0, 1, 0, 0, 0, 0, 0, 1, 0, 0, 0, 1, 1, 1, 0, 0, 1, 0, 0, 0,\n",
              "       1, 0])"
            ]
          },
          "metadata": {},
          "execution_count": 26
        }
      ]
    },
    {
      "cell_type": "code",
      "metadata": {
        "id": "03kNmCnEOB9a"
      },
      "source": [
        "from tensorflow.keras.models import load_model\n",
        "from tensorflow.keras.preprocessing import image"
      ],
      "execution_count": 27,
      "outputs": []
    },
    {
      "cell_type": "code",
      "metadata": {
        "id": "bg1VmM0lOU_D"
      },
      "source": [
        "model=load_model('model_vgg19.h5')"
      ],
      "execution_count": 28,
      "outputs": []
    },
    {
      "cell_type": "code",
      "metadata": {
        "id": "YBgZPXLGOXKN"
      },
      "source": [
        "img=image.load_img('/content/drive/MyDrive/Malaria Detection/DataSet/Test/Uninfected/2.png',target_size=(224,224))"
      ],
      "execution_count": 29,
      "outputs": []
    },
    {
      "cell_type": "code",
      "metadata": {
        "colab": {
          "base_uri": "https://localhost:8080/"
        },
        "id": "2qbF4gTJOslo",
        "outputId": "ffce4cf1-01cb-481f-9c31-dc321a61099e"
      },
      "source": [
        "x=image.img_to_array(img)\n",
        "x"
      ],
      "execution_count": 30,
      "outputs": [
        {
          "output_type": "execute_result",
          "data": {
            "text/plain": [
              "array([[[0., 0., 0.],\n",
              "        [0., 0., 0.],\n",
              "        [0., 0., 0.],\n",
              "        ...,\n",
              "        [0., 0., 0.],\n",
              "        [0., 0., 0.],\n",
              "        [0., 0., 0.]],\n",
              "\n",
              "       [[0., 0., 0.],\n",
              "        [0., 0., 0.],\n",
              "        [0., 0., 0.],\n",
              "        ...,\n",
              "        [0., 0., 0.],\n",
              "        [0., 0., 0.],\n",
              "        [0., 0., 0.]],\n",
              "\n",
              "       [[0., 0., 0.],\n",
              "        [0., 0., 0.],\n",
              "        [0., 0., 0.],\n",
              "        ...,\n",
              "        [0., 0., 0.],\n",
              "        [0., 0., 0.],\n",
              "        [0., 0., 0.]],\n",
              "\n",
              "       ...,\n",
              "\n",
              "       [[0., 0., 0.],\n",
              "        [0., 0., 0.],\n",
              "        [0., 0., 0.],\n",
              "        ...,\n",
              "        [0., 0., 0.],\n",
              "        [0., 0., 0.],\n",
              "        [0., 0., 0.]],\n",
              "\n",
              "       [[0., 0., 0.],\n",
              "        [0., 0., 0.],\n",
              "        [0., 0., 0.],\n",
              "        ...,\n",
              "        [0., 0., 0.],\n",
              "        [0., 0., 0.],\n",
              "        [0., 0., 0.]],\n",
              "\n",
              "       [[0., 0., 0.],\n",
              "        [0., 0., 0.],\n",
              "        [0., 0., 0.],\n",
              "        ...,\n",
              "        [0., 0., 0.],\n",
              "        [0., 0., 0.],\n",
              "        [0., 0., 0.]]], dtype=float32)"
            ]
          },
          "metadata": {},
          "execution_count": 30
        }
      ]
    },
    {
      "cell_type": "code",
      "metadata": {
        "colab": {
          "base_uri": "https://localhost:8080/"
        },
        "id": "Uablk6kiOv3t",
        "outputId": "ed44f749-149d-4a86-e763-74a037091410"
      },
      "source": [
        "x.shape"
      ],
      "execution_count": 31,
      "outputs": [
        {
          "output_type": "execute_result",
          "data": {
            "text/plain": [
              "(224, 224, 3)"
            ]
          },
          "metadata": {},
          "execution_count": 31
        }
      ]
    },
    {
      "cell_type": "code",
      "metadata": {
        "id": "uA4jJa22O06x"
      },
      "source": [
        "\n",
        "x=x/255"
      ],
      "execution_count": 32,
      "outputs": []
    },
    {
      "cell_type": "code",
      "metadata": {
        "colab": {
          "base_uri": "https://localhost:8080/"
        },
        "id": "PoLN1jHUO3y2",
        "outputId": "e91ecffb-3a3d-42ca-e73b-bcb82091bf13"
      },
      "source": [
        "x=np.expand_dims(x,axis=0)\n",
        "img_data=preprocess_input(x)\n",
        "img_data.shape"
      ],
      "execution_count": 33,
      "outputs": [
        {
          "output_type": "execute_result",
          "data": {
            "text/plain": [
              "(1, 224, 224, 3)"
            ]
          },
          "metadata": {},
          "execution_count": 33
        }
      ]
    },
    {
      "cell_type": "code",
      "metadata": {
        "colab": {
          "base_uri": "https://localhost:8080/"
        },
        "id": "VE07VPHCO6gL",
        "outputId": "f2009737-3cde-465b-e91a-6e8986289b6f"
      },
      "source": [
        "\n",
        "model.predict(img_data)"
      ],
      "execution_count": 34,
      "outputs": [
        {
          "output_type": "execute_result",
          "data": {
            "text/plain": [
              "array([[5.101473e-06, 9.999949e-01]], dtype=float32)"
            ]
          },
          "metadata": {},
          "execution_count": 34
        }
      ]
    },
    {
      "cell_type": "code",
      "metadata": {
        "id": "qIKdb8UiO90Z"
      },
      "source": [
        "\n",
        "a=np.argmax(model.predict(img_data), axis=1)"
      ],
      "execution_count": 35,
      "outputs": []
    },
    {
      "cell_type": "code",
      "metadata": {
        "colab": {
          "base_uri": "https://localhost:8080/"
        },
        "id": "5c6kC-i8PC-t",
        "outputId": "395753d4-ddc6-46e3-9388-c26e647b059a"
      },
      "source": [
        "\n",
        "if(a==1):\n",
        "    print(\"Uninfected\")\n",
        "else:\n",
        "    print(\"Infected\")"
      ],
      "execution_count": 36,
      "outputs": [
        {
          "output_type": "stream",
          "name": "stdout",
          "text": [
            "Uninfected\n"
          ]
        }
      ]
    },
    {
      "cell_type": "code",
      "metadata": {
        "id": "oF-FNkNwPFG5"
      },
      "source": [
        "img=image.load_img('/content/drive/MyDrive/Malaria Detection/DataSet/Test/Parasite/C39P4thinF_original_IMG_20150622_105554_cell_10.png',target_size=(224,224))"
      ],
      "execution_count": 37,
      "outputs": []
    },
    {
      "cell_type": "code",
      "metadata": {
        "colab": {
          "base_uri": "https://localhost:8080/"
        },
        "id": "38IlvUOSPY3J",
        "outputId": "bc508d3d-fccd-4df1-d0ef-2f4a4125ba19"
      },
      "source": [
        "x=image.img_to_array(img)\n",
        "x"
      ],
      "execution_count": 38,
      "outputs": [
        {
          "output_type": "execute_result",
          "data": {
            "text/plain": [
              "array([[[0., 0., 0.],\n",
              "        [0., 0., 0.],\n",
              "        [0., 0., 0.],\n",
              "        ...,\n",
              "        [0., 0., 0.],\n",
              "        [0., 0., 0.],\n",
              "        [0., 0., 0.]],\n",
              "\n",
              "       [[0., 0., 0.],\n",
              "        [0., 0., 0.],\n",
              "        [0., 0., 0.],\n",
              "        ...,\n",
              "        [0., 0., 0.],\n",
              "        [0., 0., 0.],\n",
              "        [0., 0., 0.]],\n",
              "\n",
              "       [[0., 0., 0.],\n",
              "        [0., 0., 0.],\n",
              "        [0., 0., 0.],\n",
              "        ...,\n",
              "        [0., 0., 0.],\n",
              "        [0., 0., 0.],\n",
              "        [0., 0., 0.]],\n",
              "\n",
              "       ...,\n",
              "\n",
              "       [[0., 0., 0.],\n",
              "        [0., 0., 0.],\n",
              "        [0., 0., 0.],\n",
              "        ...,\n",
              "        [0., 0., 0.],\n",
              "        [0., 0., 0.],\n",
              "        [0., 0., 0.]],\n",
              "\n",
              "       [[0., 0., 0.],\n",
              "        [0., 0., 0.],\n",
              "        [0., 0., 0.],\n",
              "        ...,\n",
              "        [0., 0., 0.],\n",
              "        [0., 0., 0.],\n",
              "        [0., 0., 0.]],\n",
              "\n",
              "       [[0., 0., 0.],\n",
              "        [0., 0., 0.],\n",
              "        [0., 0., 0.],\n",
              "        ...,\n",
              "        [0., 0., 0.],\n",
              "        [0., 0., 0.],\n",
              "        [0., 0., 0.]]], dtype=float32)"
            ]
          },
          "metadata": {},
          "execution_count": 38
        }
      ]
    },
    {
      "cell_type": "code",
      "metadata": {
        "colab": {
          "base_uri": "https://localhost:8080/"
        },
        "id": "vTz3LhrPPcJT",
        "outputId": "143e8c8b-4de8-448e-a1dd-6c5f32689b48"
      },
      "source": [
        "x.shape"
      ],
      "execution_count": 39,
      "outputs": [
        {
          "output_type": "execute_result",
          "data": {
            "text/plain": [
              "(224, 224, 3)"
            ]
          },
          "metadata": {},
          "execution_count": 39
        }
      ]
    },
    {
      "cell_type": "code",
      "metadata": {
        "id": "cP7BrSfDPfmn"
      },
      "source": [
        "x=x/255"
      ],
      "execution_count": 40,
      "outputs": []
    },
    {
      "cell_type": "code",
      "metadata": {
        "colab": {
          "base_uri": "https://localhost:8080/"
        },
        "id": "yIPuIc3jPiWV",
        "outputId": "b4286d71-9146-4035-e618-0cdcb297a976"
      },
      "source": [
        "x"
      ],
      "execution_count": 41,
      "outputs": [
        {
          "output_type": "execute_result",
          "data": {
            "text/plain": [
              "array([[[0., 0., 0.],\n",
              "        [0., 0., 0.],\n",
              "        [0., 0., 0.],\n",
              "        ...,\n",
              "        [0., 0., 0.],\n",
              "        [0., 0., 0.],\n",
              "        [0., 0., 0.]],\n",
              "\n",
              "       [[0., 0., 0.],\n",
              "        [0., 0., 0.],\n",
              "        [0., 0., 0.],\n",
              "        ...,\n",
              "        [0., 0., 0.],\n",
              "        [0., 0., 0.],\n",
              "        [0., 0., 0.]],\n",
              "\n",
              "       [[0., 0., 0.],\n",
              "        [0., 0., 0.],\n",
              "        [0., 0., 0.],\n",
              "        ...,\n",
              "        [0., 0., 0.],\n",
              "        [0., 0., 0.],\n",
              "        [0., 0., 0.]],\n",
              "\n",
              "       ...,\n",
              "\n",
              "       [[0., 0., 0.],\n",
              "        [0., 0., 0.],\n",
              "        [0., 0., 0.],\n",
              "        ...,\n",
              "        [0., 0., 0.],\n",
              "        [0., 0., 0.],\n",
              "        [0., 0., 0.]],\n",
              "\n",
              "       [[0., 0., 0.],\n",
              "        [0., 0., 0.],\n",
              "        [0., 0., 0.],\n",
              "        ...,\n",
              "        [0., 0., 0.],\n",
              "        [0., 0., 0.],\n",
              "        [0., 0., 0.]],\n",
              "\n",
              "       [[0., 0., 0.],\n",
              "        [0., 0., 0.],\n",
              "        [0., 0., 0.],\n",
              "        ...,\n",
              "        [0., 0., 0.],\n",
              "        [0., 0., 0.],\n",
              "        [0., 0., 0.]]], dtype=float32)"
            ]
          },
          "metadata": {},
          "execution_count": 41
        }
      ]
    },
    {
      "cell_type": "code",
      "metadata": {
        "colab": {
          "base_uri": "https://localhost:8080/"
        },
        "id": "aaCOwMTaPjPg",
        "outputId": "a1eed28a-a2f0-4c11-ce0a-631cc4a21710"
      },
      "source": [
        "x=np.expand_dims(x,axis=0)\n",
        "img_data=preprocess_input(x)\n",
        "img_data.shape"
      ],
      "execution_count": 42,
      "outputs": [
        {
          "output_type": "execute_result",
          "data": {
            "text/plain": [
              "(1, 224, 224, 3)"
            ]
          },
          "metadata": {},
          "execution_count": 42
        }
      ]
    },
    {
      "cell_type": "code",
      "metadata": {
        "colab": {
          "base_uri": "https://localhost:8080/"
        },
        "id": "8g6I3A2UPn4z",
        "outputId": "16dca4ce-ab20-46ea-da7e-1847df0e15eb"
      },
      "source": [
        "model.predict(img_data)"
      ],
      "execution_count": 43,
      "outputs": [
        {
          "output_type": "execute_result",
          "data": {
            "text/plain": [
              "array([[6.5555241e-06, 9.9999344e-01]], dtype=float32)"
            ]
          },
          "metadata": {},
          "execution_count": 43
        }
      ]
    },
    {
      "cell_type": "code",
      "metadata": {
        "id": "97UeQOHlPrE7"
      },
      "source": [
        "a=np.argmax(model.predict(img_data), axis=1)"
      ],
      "execution_count": 44,
      "outputs": []
    },
    {
      "cell_type": "code",
      "metadata": {
        "colab": {
          "base_uri": "https://localhost:8080/"
        },
        "id": "UEMUUhhOPtgL",
        "outputId": "71bb43ba-9995-4297-da2b-4e3d859d9d58"
      },
      "source": [
        "if(a==0):\n",
        "    print(\"Uninfected\")\n",
        "else:\n",
        "    print(\"Infected\")"
      ],
      "execution_count": 46,
      "outputs": [
        {
          "output_type": "stream",
          "name": "stdout",
          "text": [
            "Infected\n"
          ]
        }
      ]
    },
    {
      "cell_type": "code",
      "metadata": {
        "id": "_8OrU3sSPvu_"
      },
      "source": [
        ""
      ],
      "execution_count": null,
      "outputs": []
    }
  ]
}